{
 "cells": [
  {
   "cell_type": "code",
   "execution_count": 33,
   "metadata": {},
   "outputs": [],
   "source": [
    "\n",
    "class Swar:\n",
    "    \n",
    "    def __repr__(self):\n",
    "        return type(self).__name__\n",
    "\n",
    "class Sa(Swar):\n",
    "    pass\n",
    "class Re(Swar):\n",
    "    pass\n",
    "class Re_(Swar):\n",
    "    pass\n",
    "class Ga(Swar):\n",
    "    pass\n",
    "class Ga_(Swar):\n",
    "    pass\n",
    "class Ma(Swar):\n",
    "    pass\n",
    "class Ma__(Swar):\n",
    "    pass\n",
    "class Pa(Swar):\n",
    "    pass\n",
    "class Dha(Swar):\n",
    "    pass\n",
    "class Dha_(Swar):\n",
    "    pass\n",
    "class Ni(Swar):\n",
    "    pass\n",
    "class Ni_(Swar):\n",
    "    pass\n",
    "\n",
    "\n",
    "def saptak():\n",
    "    aroha = [Sa(), Re(), Re_(), Ga(), Ga_(), Ma(), Ma__(), Pa(), Dha(), Dha_(), Ni(), Ni_()]\n",
    "    awaroha = aroha[::-1]\n",
    "    yield from aroha\n",
    "    yield from awaroha\n",
    "    \n",
    "def take(seq, n):\n",
    "    return [next(seq) for i in range(n)]\n",
    "\n"
   ]
  },
  {
   "cell_type": "code",
   "execution_count": 38,
   "metadata": {},
   "outputs": [],
   "source": [
    "s = saptak()"
   ]
  },
  {
   "cell_type": "code",
   "execution_count": 35,
   "metadata": {},
   "outputs": [
    {
     "data": {
      "text/plain": [
       "[Sa, Re, Re_, Ga, Ga_, Ma, Ma__, Pa, Dha, Dha_]"
      ]
     },
     "execution_count": 35,
     "metadata": {},
     "output_type": "execute_result"
    }
   ],
   "source": [
    "take(s, 10)"
   ]
  },
  {
   "cell_type": "code",
   "execution_count": 40,
   "metadata": {},
   "outputs": [],
   "source": [
    "def yaman(seq):\n",
    "    varjya = (Re_, Ma, Ga_, Dha_, Ni_)\n",
    "    return (i for i in seq if not isinstance(i, varjya))"
   ]
  },
  {
   "cell_type": "code",
   "execution_count": 41,
   "metadata": {},
   "outputs": [
    {
     "data": {
      "text/plain": [
       "[Sa, Re, Ga, Ma__, Pa, Dha, Ni, Ni, Dha, Pa, Ma__, Ga, Re, Sa]"
      ]
     },
     "execution_count": 41,
     "metadata": {},
     "output_type": "execute_result"
    }
   ],
   "source": [
    "\n",
    "list(yaman(saptak()))"
   ]
  },
  {
   "cell_type": "code",
   "execution_count": 20,
   "metadata": {},
   "outputs": [
    {
     "data": {
      "text/plain": [
       "'Sa'"
      ]
     },
     "execution_count": 20,
     "metadata": {},
     "output_type": "execute_result"
    }
   ],
   "source": [
    "type(s).__name__"
   ]
  },
  {
   "cell_type": "code",
   "execution_count": 5,
   "metadata": {},
   "outputs": [],
   "source": [
    "Sa = type(\"Sa\",(type,),{})"
   ]
  },
  {
   "cell_type": "code",
   "execution_count": 9,
   "metadata": {},
   "outputs": [
    {
     "name": "stdout",
     "output_type": "stream",
     "text": [
      "Help on built-in function __new__:\n",
      "\n",
      "__new__(*args, **kwargs) method of builtins.type instance\n",
      "    Create and return a new object.  See help(type) for accurate signature.\n",
      "\n"
     ]
    }
   ],
   "source": [
    "help(Sa.__new__)"
   ]
  },
  {
   "cell_type": "code",
   "execution_count": 10,
   "metadata": {},
   "outputs": [
    {
     "name": "stdout",
     "output_type": "stream",
     "text": [
      "Help on class type in module builtins:\n",
      "\n",
      "class type(object)\n",
      " |  type(object_or_name, bases, dict)\n",
      " |  type(object) -> the object's type\n",
      " |  type(name, bases, dict) -> a new type\n",
      " |  \n",
      " |  Methods defined here:\n",
      " |  \n",
      " |  __call__(self, /, *args, **kwargs)\n",
      " |      Call self as a function.\n",
      " |  \n",
      " |  __delattr__(self, name, /)\n",
      " |      Implement delattr(self, name).\n",
      " |  \n",
      " |  __dir__(self, /)\n",
      " |      Specialized __dir__ implementation for types.\n",
      " |  \n",
      " |  __getattribute__(self, name, /)\n",
      " |      Return getattr(self, name).\n",
      " |  \n",
      " |  __init__(self, /, *args, **kwargs)\n",
      " |      Initialize self.  See help(type(self)) for accurate signature.\n",
      " |  \n",
      " |  __instancecheck__(self, instance, /)\n",
      " |      Check if an object is an instance.\n",
      " |  \n",
      " |  __repr__(self, /)\n",
      " |      Return repr(self).\n",
      " |  \n",
      " |  __setattr__(self, name, value, /)\n",
      " |      Implement setattr(self, name, value).\n",
      " |  \n",
      " |  __sizeof__(self, /)\n",
      " |      Return memory consumption of the type object.\n",
      " |  \n",
      " |  __subclasscheck__(self, subclass, /)\n",
      " |      Check if a class is a subclass.\n",
      " |  \n",
      " |  __subclasses__(self, /)\n",
      " |      Return a list of immediate subclasses.\n",
      " |  \n",
      " |  mro(self, /)\n",
      " |      Return a type's method resolution order.\n",
      " |  \n",
      " |  ----------------------------------------------------------------------\n",
      " |  Class methods defined here:\n",
      " |  \n",
      " |  __prepare__(...)\n",
      " |      __prepare__() -> dict\n",
      " |      used to create the namespace for the class statement\n",
      " |  \n",
      " |  ----------------------------------------------------------------------\n",
      " |  Static methods defined here:\n",
      " |  \n",
      " |  __new__(*args, **kwargs)\n",
      " |      Create and return a new object.  See help(type) for accurate signature.\n",
      " |  \n",
      " |  ----------------------------------------------------------------------\n",
      " |  Data descriptors defined here:\n",
      " |  \n",
      " |  __abstractmethods__\n",
      " |  \n",
      " |  __dict__\n",
      " |  \n",
      " |  __text_signature__\n",
      " |  \n",
      " |  ----------------------------------------------------------------------\n",
      " |  Data and other attributes defined here:\n",
      " |  \n",
      " |  __base__ = <class 'object'>\n",
      " |      The most base type\n",
      " |  \n",
      " |  __bases__ = (<class 'object'>,)\n",
      " |  \n",
      " |  __basicsize__ = 864\n",
      " |  \n",
      " |  __dictoffset__ = 264\n",
      " |  \n",
      " |  __flags__ = 2148291584\n",
      " |  \n",
      " |  __itemsize__ = 40\n",
      " |  \n",
      " |  __mro__ = (<class 'type'>, <class 'object'>)\n",
      " |  \n",
      " |  __weakrefoffset__ = 368\n",
      "\n"
     ]
    }
   ],
   "source": [
    "help(type)"
   ]
  },
  {
   "cell_type": "code",
   "execution_count": 11,
   "metadata": {},
   "outputs": [],
   "source": [
    "import types"
   ]
  },
  {
   "cell_type": "code",
   "execution_count": 12,
   "metadata": {},
   "outputs": [
    {
     "ename": "NameError",
     "evalue": "name 'cls_dict' is not defined",
     "output_type": "error",
     "traceback": [
      "\u001b[0;31m---------------------------------------------------------------------------\u001b[0m",
      "\u001b[0;31mNameError\u001b[0m                                 Traceback (most recent call last)",
      "\u001b[0;32m<ipython-input-12-aeed00788f06>\u001b[0m in \u001b[0;36m<module>\u001b[0;34m\u001b[0m\n\u001b[0;32m----> 1\u001b[0;31m \u001b[0mtypes\u001b[0m\u001b[0;34m.\u001b[0m\u001b[0mnew_class\u001b[0m\u001b[0;34m(\u001b[0m\u001b[0;34m\"Sa\"\u001b[0m\u001b[0;34m,\u001b[0m \u001b[0;34m(\u001b[0m\u001b[0;34m)\u001b[0m\u001b[0;34m,\u001b[0m \u001b[0;34m{\u001b[0m\u001b[0;34m}\u001b[0m\u001b[0;34m,\u001b[0m \u001b[0;32mlambda\u001b[0m \u001b[0mns\u001b[0m\u001b[0;34m:\u001b[0m \u001b[0mns\u001b[0m\u001b[0;34m.\u001b[0m\u001b[0mupdate\u001b[0m\u001b[0;34m(\u001b[0m\u001b[0mcls_dict\u001b[0m\u001b[0;34m)\u001b[0m\u001b[0;34m)\u001b[0m\u001b[0;34m\u001b[0m\u001b[0;34m\u001b[0m\u001b[0m\n\u001b[0m",
      "\u001b[0;32m~/anaconda3/lib/python3.7/types.py\u001b[0m in \u001b[0;36mnew_class\u001b[0;34m(name, bases, kwds, exec_body)\u001b[0m\n\u001b[1;32m     65\u001b[0m     \u001b[0mmeta\u001b[0m\u001b[0;34m,\u001b[0m \u001b[0mns\u001b[0m\u001b[0;34m,\u001b[0m \u001b[0mkwds\u001b[0m \u001b[0;34m=\u001b[0m \u001b[0mprepare_class\u001b[0m\u001b[0;34m(\u001b[0m\u001b[0mname\u001b[0m\u001b[0;34m,\u001b[0m \u001b[0mresolved_bases\u001b[0m\u001b[0;34m,\u001b[0m \u001b[0mkwds\u001b[0m\u001b[0;34m)\u001b[0m\u001b[0;34m\u001b[0m\u001b[0;34m\u001b[0m\u001b[0m\n\u001b[1;32m     66\u001b[0m     \u001b[0;32mif\u001b[0m \u001b[0mexec_body\u001b[0m \u001b[0;32mis\u001b[0m \u001b[0;32mnot\u001b[0m \u001b[0;32mNone\u001b[0m\u001b[0;34m:\u001b[0m\u001b[0;34m\u001b[0m\u001b[0;34m\u001b[0m\u001b[0m\n\u001b[0;32m---> 67\u001b[0;31m         \u001b[0mexec_body\u001b[0m\u001b[0;34m(\u001b[0m\u001b[0mns\u001b[0m\u001b[0;34m)\u001b[0m\u001b[0;34m\u001b[0m\u001b[0;34m\u001b[0m\u001b[0m\n\u001b[0m\u001b[1;32m     68\u001b[0m     \u001b[0;32mif\u001b[0m \u001b[0mresolved_bases\u001b[0m \u001b[0;32mis\u001b[0m \u001b[0;32mnot\u001b[0m \u001b[0mbases\u001b[0m\u001b[0;34m:\u001b[0m\u001b[0;34m\u001b[0m\u001b[0;34m\u001b[0m\u001b[0m\n\u001b[1;32m     69\u001b[0m         \u001b[0mns\u001b[0m\u001b[0;34m[\u001b[0m\u001b[0;34m'__orig_bases__'\u001b[0m\u001b[0;34m]\u001b[0m \u001b[0;34m=\u001b[0m \u001b[0mbases\u001b[0m\u001b[0;34m\u001b[0m\u001b[0;34m\u001b[0m\u001b[0m\n",
      "\u001b[0;32m<ipython-input-12-aeed00788f06>\u001b[0m in \u001b[0;36m<lambda>\u001b[0;34m(ns)\u001b[0m\n\u001b[0;32m----> 1\u001b[0;31m \u001b[0mtypes\u001b[0m\u001b[0;34m.\u001b[0m\u001b[0mnew_class\u001b[0m\u001b[0;34m(\u001b[0m\u001b[0;34m\"Sa\"\u001b[0m\u001b[0;34m,\u001b[0m \u001b[0;34m(\u001b[0m\u001b[0;34m)\u001b[0m\u001b[0;34m,\u001b[0m \u001b[0;34m{\u001b[0m\u001b[0;34m}\u001b[0m\u001b[0;34m,\u001b[0m \u001b[0;32mlambda\u001b[0m \u001b[0mns\u001b[0m\u001b[0;34m:\u001b[0m \u001b[0mns\u001b[0m\u001b[0;34m.\u001b[0m\u001b[0mupdate\u001b[0m\u001b[0;34m(\u001b[0m\u001b[0mcls_dict\u001b[0m\u001b[0;34m)\u001b[0m\u001b[0;34m)\u001b[0m\u001b[0;34m\u001b[0m\u001b[0;34m\u001b[0m\u001b[0m\n\u001b[0m",
      "\u001b[0;31mNameError\u001b[0m: name 'cls_dict' is not defined"
     ]
    }
   ],
   "source": [
    "types.new_class(\"Sa\", (), {}, lambda ns: ns.update(cls_dict))"
   ]
  },
  {
   "cell_type": "code",
   "execution_count": 14,
   "metadata": {},
   "outputs": [],
   "source": [
    "Sa = types.new_class(\"Sa\", (), {}, lambda ns: ns.update({}))"
   ]
  },
  {
   "cell_type": "code",
   "execution_count": 15,
   "metadata": {},
   "outputs": [
    {
     "data": {
      "text/plain": [
       "types.Sa"
      ]
     },
     "execution_count": 15,
     "metadata": {},
     "output_type": "execute_result"
    }
   ],
   "source": [
    "Sa"
   ]
  },
  {
   "cell_type": "code",
   "execution_count": 16,
   "metadata": {},
   "outputs": [],
   "source": [
    "Sa.__module__ = __name__"
   ]
  },
  {
   "cell_type": "code",
   "execution_count": 17,
   "metadata": {},
   "outputs": [
    {
     "data": {
      "text/plain": [
       "__main__.Sa"
      ]
     },
     "execution_count": 17,
     "metadata": {},
     "output_type": "execute_result"
    }
   ],
   "source": [
    "Sa"
   ]
  },
  {
   "cell_type": "code",
   "execution_count": 18,
   "metadata": {},
   "outputs": [],
   "source": [
    "s = Sa()"
   ]
  },
  {
   "cell_type": "code",
   "execution_count": 19,
   "metadata": {},
   "outputs": [
    {
     "data": {
      "text/plain": [
       "<__main__.Sa at 0x7f672806b160>"
      ]
     },
     "execution_count": 19,
     "metadata": {},
     "output_type": "execute_result"
    }
   ],
   "source": [
    "s"
   ]
  },
  {
   "cell_type": "code",
   "execution_count": 20,
   "metadata": {},
   "outputs": [
    {
     "data": {
      "text/plain": [
       "__main__.Sa"
      ]
     },
     "execution_count": 20,
     "metadata": {},
     "output_type": "execute_result"
    }
   ],
   "source": [
    "type(s)"
   ]
  },
  {
   "cell_type": "code",
   "execution_count": 21,
   "metadata": {},
   "outputs": [
    {
     "data": {
      "text/plain": [
       "True"
      ]
     },
     "execution_count": 21,
     "metadata": {},
     "output_type": "execute_result"
    }
   ],
   "source": [
    "isinstance(s, Sa)"
   ]
  },
  {
   "cell_type": "code",
   "execution_count": 48,
   "metadata": {},
   "outputs": [],
   "source": [
    "import types\n",
    "\n",
    "def __init__(self, freq=0):\n",
    "    self.__dict__['freq'] = freq\n",
    "    \n",
    "def __setattr__(self, name, value):\n",
    "    raise ValueError(\"You can't change anything!\")\n",
    "    \n",
    "cls_dict = {\"__init__\": __init__,\n",
    "            \"__setattr__\":__setattr__}\n",
    "def create_swar(name, othermethods=None):\n",
    "    if not othermethods:\n",
    "        othermethods = {}\n",
    "    clz = types.new_class(name, (),{}, lambda ns: ns.update(cls_dict))\n",
    "    clz.__module__ = __name__\n",
    "    return clz"
   ]
  },
  {
   "cell_type": "code",
   "execution_count": 49,
   "metadata": {},
   "outputs": [],
   "source": [
    "Sa = create_swar(\"Sa\")"
   ]
  },
  {
   "cell_type": "code",
   "execution_count": 50,
   "metadata": {},
   "outputs": [
    {
     "data": {
      "text/plain": [
       "__main__.Sa"
      ]
     },
     "execution_count": 50,
     "metadata": {},
     "output_type": "execute_result"
    }
   ],
   "source": [
    "Sa"
   ]
  },
  {
   "cell_type": "code",
   "execution_count": 51,
   "metadata": {},
   "outputs": [],
   "source": [
    "s = Sa()"
   ]
  },
  {
   "cell_type": "code",
   "execution_count": 52,
   "metadata": {},
   "outputs": [
    {
     "data": {
      "text/plain": [
       "0"
      ]
     },
     "execution_count": 52,
     "metadata": {},
     "output_type": "execute_result"
    }
   ],
   "source": [
    "s.freq"
   ]
  },
  {
   "cell_type": "code",
   "execution_count": 53,
   "metadata": {},
   "outputs": [
    {
     "name": "stdout",
     "output_type": "stream",
     "text": [
      "Help on function new_class in module types:\n",
      "\n",
      "new_class(name, bases=(), kwds=None, exec_body=None)\n",
      "    Create a class object dynamically using the appropriate metaclass.\n",
      "\n"
     ]
    }
   ],
   "source": [
    "help(types.new_class)"
   ]
  },
  {
   "cell_type": "code",
   "execution_count": 54,
   "metadata": {},
   "outputs": [
    {
     "ename": "ValueError",
     "evalue": "You can't change anything!",
     "output_type": "error",
     "traceback": [
      "\u001b[0;31m---------------------------------------------------------------------------\u001b[0m",
      "\u001b[0;31mValueError\u001b[0m                                Traceback (most recent call last)",
      "\u001b[0;32m<ipython-input-54-583d54bb6b3b>\u001b[0m in \u001b[0;36m<module>\u001b[0;34m\u001b[0m\n\u001b[0;32m----> 1\u001b[0;31m \u001b[0ms\u001b[0m\u001b[0;34m.\u001b[0m\u001b[0mx\u001b[0m \u001b[0;34m=\u001b[0m \u001b[0;36m4\u001b[0m\u001b[0;34m\u001b[0m\u001b[0;34m\u001b[0m\u001b[0m\n\u001b[0m",
      "\u001b[0;32m<ipython-input-48-718bd47fd4fa>\u001b[0m in \u001b[0;36m__setattr__\u001b[0;34m(self, name, value)\u001b[0m\n\u001b[1;32m      5\u001b[0m \u001b[0;34m\u001b[0m\u001b[0m\n\u001b[1;32m      6\u001b[0m \u001b[0;32mdef\u001b[0m \u001b[0m__setattr__\u001b[0m\u001b[0;34m(\u001b[0m\u001b[0mself\u001b[0m\u001b[0;34m,\u001b[0m \u001b[0mname\u001b[0m\u001b[0;34m,\u001b[0m \u001b[0mvalue\u001b[0m\u001b[0;34m)\u001b[0m\u001b[0;34m:\u001b[0m\u001b[0;34m\u001b[0m\u001b[0;34m\u001b[0m\u001b[0m\n\u001b[0;32m----> 7\u001b[0;31m     \u001b[0;32mraise\u001b[0m \u001b[0mValueError\u001b[0m\u001b[0;34m(\u001b[0m\u001b[0;34m\"You can't change anything!\"\u001b[0m\u001b[0;34m)\u001b[0m\u001b[0;34m\u001b[0m\u001b[0;34m\u001b[0m\u001b[0m\n\u001b[0m\u001b[1;32m      8\u001b[0m \u001b[0;34m\u001b[0m\u001b[0m\n\u001b[1;32m      9\u001b[0m cls_dict = {\"__init__\": __init__,\n",
      "\u001b[0;31mValueError\u001b[0m: You can't change anything!"
     ]
    }
   ],
   "source": [
    "s.x = 4"
   ]
  },
  {
   "cell_type": "code",
   "execution_count": 55,
   "metadata": {},
   "outputs": [
    {
     "ename": "ValueError",
     "evalue": "You can't change anything!",
     "output_type": "error",
     "traceback": [
      "\u001b[0;31m---------------------------------------------------------------------------\u001b[0m",
      "\u001b[0;31mValueError\u001b[0m                                Traceback (most recent call last)",
      "\u001b[0;32m<ipython-input-55-26761139144a>\u001b[0m in \u001b[0;36m<module>\u001b[0;34m\u001b[0m\n\u001b[0;32m----> 1\u001b[0;31m \u001b[0ms\u001b[0m\u001b[0;34m.\u001b[0m\u001b[0mfreq\u001b[0m \u001b[0;34m=\u001b[0m \u001b[0;36m10\u001b[0m\u001b[0;34m\u001b[0m\u001b[0;34m\u001b[0m\u001b[0m\n\u001b[0m",
      "\u001b[0;32m<ipython-input-48-718bd47fd4fa>\u001b[0m in \u001b[0;36m__setattr__\u001b[0;34m(self, name, value)\u001b[0m\n\u001b[1;32m      5\u001b[0m \u001b[0;34m\u001b[0m\u001b[0m\n\u001b[1;32m      6\u001b[0m \u001b[0;32mdef\u001b[0m \u001b[0m__setattr__\u001b[0m\u001b[0;34m(\u001b[0m\u001b[0mself\u001b[0m\u001b[0;34m,\u001b[0m \u001b[0mname\u001b[0m\u001b[0;34m,\u001b[0m \u001b[0mvalue\u001b[0m\u001b[0;34m)\u001b[0m\u001b[0;34m:\u001b[0m\u001b[0;34m\u001b[0m\u001b[0;34m\u001b[0m\u001b[0m\n\u001b[0;32m----> 7\u001b[0;31m     \u001b[0;32mraise\u001b[0m \u001b[0mValueError\u001b[0m\u001b[0;34m(\u001b[0m\u001b[0;34m\"You can't change anything!\"\u001b[0m\u001b[0;34m)\u001b[0m\u001b[0;34m\u001b[0m\u001b[0;34m\u001b[0m\u001b[0m\n\u001b[0m\u001b[1;32m      8\u001b[0m \u001b[0;34m\u001b[0m\u001b[0m\n\u001b[1;32m      9\u001b[0m cls_dict = {\"__init__\": __init__,\n",
      "\u001b[0;31mValueError\u001b[0m: You can't change anything!"
     ]
    }
   ],
   "source": [
    "s.freq = 10"
   ]
  },
  {
   "cell_type": "code",
   "execution_count": 108,
   "metadata": {},
   "outputs": [],
   "source": [
    "import types\n",
    "\n",
    "swarnames = [\"Sa\", \"Re\", \"Re_\", \"Ga\", \"Ga_\", \"Ma\", \"Ma__\", \"Pa\", \"Dha\", \"Dha_\", \"Ni\", \"Ni_\"]\n",
    "freq = [0]*12 # for time being freq is set to zero ... lets see correct values, when we would like to play\n",
    "\n",
    "\n",
    "class Swar:\n",
    "    def __init__(self, freq=0):\n",
    "        self.__dict__['freq'] = freq\n",
    "    \n",
    "    def __setattr__(self, name, value):\n",
    "        raise ValueError(\"You can't change anything!\")\n",
    "        \n",
    "    def __repr__(self):\n",
    "        return self.__class__.__name__\n",
    "    \n",
    "\n",
    "def create_swar(name, freq=0 , othermethods=None):\n",
    "    if not othermethods:\n",
    "        othermethods = {}\n",
    "    clz = types.new_class(name, (Swar,),{}, lambda ns: ns.update({}))\n",
    "    clz.__module__ = __name__\n",
    "    return clz\n",
    "\n",
    "def saptak():\n",
    "    return [create_swar(name)(f) for  name,f  in zip(swarnames, freq)]\n",
    "\n",
    "def mandra_saptak():\n",
    "    return [create_swar(name.lower())(f) for  name,f in zip(swarnames, freq)]\n",
    "\n",
    "def tar_saptak():\n",
    "    return [create_swar(name.upper())(f) for name,f in zip(swarnames,freq)]"
   ]
  },
  {
   "cell_type": "code",
   "execution_count": 109,
   "metadata": {},
   "outputs": [
    {
     "data": {
      "text/plain": [
       "12"
      ]
     },
     "execution_count": 109,
     "metadata": {},
     "output_type": "execute_result"
    }
   ],
   "source": [
    "len(swarnames)"
   ]
  },
  {
   "cell_type": "code",
   "execution_count": 110,
   "metadata": {},
   "outputs": [],
   "source": [
    "s = saptak()"
   ]
  },
  {
   "cell_type": "code",
   "execution_count": 111,
   "metadata": {},
   "outputs": [
    {
     "data": {
      "text/plain": [
       "[Sa, Re, Re_, Ga, Ga_, Ma, Ma__, Pa, Dha, Dha_, Ni, Ni_]"
      ]
     },
     "execution_count": 111,
     "metadata": {},
     "output_type": "execute_result"
    }
   ],
   "source": [
    "s"
   ]
  },
  {
   "cell_type": "code",
   "execution_count": 112,
   "metadata": {},
   "outputs": [],
   "source": [
    "Sa = s[0]"
   ]
  },
  {
   "cell_type": "code",
   "execution_count": 113,
   "metadata": {},
   "outputs": [
    {
     "data": {
      "text/plain": [
       "0"
      ]
     },
     "execution_count": 113,
     "metadata": {},
     "output_type": "execute_result"
    }
   ],
   "source": [
    "Sa.freq"
   ]
  },
  {
   "cell_type": "code",
   "execution_count": 114,
   "metadata": {},
   "outputs": [
    {
     "data": {
      "text/plain": [
       "__main__.Sa"
      ]
     },
     "execution_count": 114,
     "metadata": {},
     "output_type": "execute_result"
    }
   ],
   "source": [
    "create_swar(\"Sa\", 10)"
   ]
  },
  {
   "cell_type": "code",
   "execution_count": 115,
   "metadata": {},
   "outputs": [
    {
     "data": {
      "text/plain": [
       "12"
      ]
     },
     "execution_count": 115,
     "metadata": {},
     "output_type": "execute_result"
    }
   ],
   "source": [
    "len(s)"
   ]
  },
  {
   "cell_type": "code",
   "execution_count": 118,
   "metadata": {},
   "outputs": [
    {
     "data": {
      "text/plain": [
       "[Sa, Re, Re_, Ga, Ga_, Ma, Ma__, Pa, Dha, Dha_, Ni, Ni_]"
      ]
     },
     "execution_count": 118,
     "metadata": {},
     "output_type": "execute_result"
    }
   ],
   "source": [
    "saptak()"
   ]
  },
  {
   "cell_type": "code",
   "execution_count": 119,
   "metadata": {},
   "outputs": [
    {
     "data": {
      "text/plain": [
       "[sa, re, re_, ga, ga_, ma, ma__, pa, dha, dha_, ni, ni_]"
      ]
     },
     "execution_count": 119,
     "metadata": {},
     "output_type": "execute_result"
    }
   ],
   "source": [
    "mandra_saptak()"
   ]
  },
  {
   "cell_type": "code",
   "execution_count": 120,
   "metadata": {},
   "outputs": [
    {
     "data": {
      "text/plain": [
       "[SA, RE, RE_, GA, GA_, MA, MA__, PA, DHA, DHA_, NI, NI_]"
      ]
     },
     "execution_count": 120,
     "metadata": {},
     "output_type": "execute_result"
    }
   ],
   "source": [
    "tar_saptak()"
   ]
  },
  {
   "cell_type": "code",
   "execution_count": 121,
   "metadata": {},
   "outputs": [],
   "source": [
    "complete_scale = mandra_saptak() + saptak() + tar_saptak() "
   ]
  },
  {
   "cell_type": "code",
   "execution_count": 122,
   "metadata": {},
   "outputs": [
    {
     "data": {
      "text/plain": [
       "36"
      ]
     },
     "execution_count": 122,
     "metadata": {},
     "output_type": "execute_result"
    }
   ],
   "source": [
    "len(complete_scale)"
   ]
  },
  {
   "cell_type": "code",
   "execution_count": 123,
   "metadata": {},
   "outputs": [
    {
     "data": {
      "text/plain": [
       "[sa,\n",
       " re,\n",
       " re_,\n",
       " ga,\n",
       " ga_,\n",
       " ma,\n",
       " ma__,\n",
       " pa,\n",
       " dha,\n",
       " dha_,\n",
       " ni,\n",
       " ni_,\n",
       " Sa,\n",
       " Re,\n",
       " Re_,\n",
       " Ga,\n",
       " Ga_,\n",
       " Ma,\n",
       " Ma__,\n",
       " Pa,\n",
       " Dha,\n",
       " Dha_,\n",
       " Ni,\n",
       " Ni_,\n",
       " SA,\n",
       " RE,\n",
       " RE_,\n",
       " GA,\n",
       " GA_,\n",
       " MA,\n",
       " MA__,\n",
       " PA,\n",
       " DHA,\n",
       " DHA_,\n",
       " NI,\n",
       " NI_]"
      ]
     },
     "execution_count": 123,
     "metadata": {},
     "output_type": "execute_result"
    }
   ],
   "source": [
    "complete_scale"
   ]
  },
  {
   "cell_type": "code",
   "execution_count": 183,
   "metadata": {},
   "outputs": [],
   "source": [
    "import types\n",
    "\n",
    "\n",
    "\n",
    "class Swar:\n",
    "    swarnames = [\"Sa\", \"Re\", \"Re_\", \"Ga\", \"Ga_\", \"Ma\", \"Ma__\", \"Pa\", \"Dha\", \"Dha_\", \"Ni\", \"Ni_\"]\n",
    "    freq_ = [0]*12 # for time being freq is set to zero ... lets see correct values, when we would like to play\n",
    "\n",
    "    def __init__(self, freq=0):\n",
    "        self.__dict__['freq'] = freq\n",
    "    \n",
    "    def __setattr__(self, name, value):\n",
    "        raise ValueError(\"You can't change anything!\")\n",
    "        \n",
    "    def __sub__(self, num):\n",
    "        if num > 11:\n",
    "            raise ValueError(\"Number that can be subtracted has to be <= 11\")\n",
    "        name = self.__class__.__name__\n",
    "        index = [s.lower() for s in self.swarnames].index(name.lower())\n",
    "        newindex = index - num\n",
    "        newname = Swar.swarnames[newindex]\n",
    "        if newindex < 0:\n",
    "            if name == name.lower():#mandra saptak\n",
    "                newindex = 0\n",
    "                newname = self.swarnames[newindex]\n",
    "            elif name == name.upper(): #tar saptak\n",
    "                newname = self.swarnames[newindex].capitalize()\n",
    "            else: # madhya saptak\n",
    "                newname = self.swarnames[newindex].lower()\n",
    "        \n",
    "        freq = self.freq_[newindex]\n",
    "        return create_swar(newname, freq)\n",
    "        \n",
    "    def __repr__(self):\n",
    "        return self.__class__.__name__\n",
    "    \n",
    "    def __str__(self):\n",
    "        return self.__class__.__name__\n",
    "    \n",
    "\n",
    "\n",
    "def create_swar(name, freq=0 , othermethods=None):\n",
    "    if not othermethods:\n",
    "        othermethods = {}\n",
    "    clz = types.new_class(name, (Swar,),{}, lambda ns: ns.update({}))\n",
    "    clz.__module__ = __name__\n",
    "    return clz\n",
    "\n",
    "def saptak():\n",
    "    return [create_swar(name)(f) for  name,f  in zip(Swar.swarnames, Swar.freq_)]\n",
    "\n",
    "def mandra_saptak():\n",
    "    return [create_swar(name.lower())(f) for  name,f in zip(Swar.swarnames, Swar.freq_)]\n",
    "\n",
    "def tar_saptak():\n",
    "    return [create_swar(name.upper())(f) for name,f in zip(Swar.swarnames,Swar.freq_)]\n",
    "\n",
    "def complete_scale():\n",
    "    return mandra_saptak() + saptak() + tar_saptak()"
   ]
  },
  {
   "cell_type": "code",
   "execution_count": 173,
   "metadata": {},
   "outputs": [
    {
     "data": {
      "text/plain": [
       "[sa,\n",
       " re,\n",
       " re_,\n",
       " ga,\n",
       " ga_,\n",
       " ma,\n",
       " ma__,\n",
       " pa,\n",
       " dha,\n",
       " dha_,\n",
       " ni,\n",
       " ni_,\n",
       " Sa,\n",
       " Re,\n",
       " Re_,\n",
       " Ga,\n",
       " Ga_,\n",
       " Ma,\n",
       " Ma__,\n",
       " Pa,\n",
       " Dha,\n",
       " Dha_,\n",
       " Ni,\n",
       " Ni_,\n",
       " SA,\n",
       " RE,\n",
       " RE_,\n",
       " GA,\n",
       " GA_,\n",
       " MA,\n",
       " MA__,\n",
       " PA,\n",
       " DHA,\n",
       " DHA_,\n",
       " NI,\n",
       " NI_]"
      ]
     },
     "execution_count": 173,
     "metadata": {},
     "output_type": "execute_result"
    }
   ],
   "source": [
    "complete_scale()"
   ]
  },
  {
   "cell_type": "code",
   "execution_count": 174,
   "metadata": {},
   "outputs": [],
   "source": [
    "import random\n",
    "def random_prob(S):\n",
    "    return {type(s):random.random() if str(s)==str(S) else 0 for s in complete_scale()}\n",
    "def transition_probabilities_aaroh(S):\n",
    "    return random_prob(S)\n",
    "\n",
    "def transition_probabilities_awaroh(S):\n",
    "    return random_prob(S)"
   ]
  },
  {
   "cell_type": "code",
   "execution_count": 175,
   "metadata": {},
   "outputs": [
    {
     "data": {
      "text/plain": [
       "{__main__.sa: 0,\n",
       " __main__.re: 0,\n",
       " __main__.re_: 0,\n",
       " __main__.ga: 0,\n",
       " __main__.ga_: 0,\n",
       " __main__.ma: 0,\n",
       " __main__.ma__: 0,\n",
       " __main__.pa: 0,\n",
       " __main__.dha: 0,\n",
       " __main__.dha_: 0,\n",
       " __main__.ni: 0,\n",
       " __main__.ni_: 0,\n",
       " __main__.Sa: 0.4012636218655449,\n",
       " __main__.Re: 0,\n",
       " __main__.Re_: 0,\n",
       " __main__.Ga: 0,\n",
       " __main__.Ga_: 0,\n",
       " __main__.Ma: 0,\n",
       " __main__.Ma__: 0,\n",
       " __main__.Pa: 0,\n",
       " __main__.Dha: 0,\n",
       " __main__.Dha_: 0,\n",
       " __main__.Ni: 0,\n",
       " __main__.Ni_: 0,\n",
       " __main__.SA: 0,\n",
       " __main__.RE: 0,\n",
       " __main__.RE_: 0,\n",
       " __main__.GA: 0,\n",
       " __main__.GA_: 0,\n",
       " __main__.MA: 0,\n",
       " __main__.MA__: 0,\n",
       " __main__.PA: 0,\n",
       " __main__.DHA: 0,\n",
       " __main__.DHA_: 0,\n",
       " __main__.NI: 0,\n",
       " __main__.NI_: 0}"
      ]
     },
     "execution_count": 175,
     "metadata": {},
     "output_type": "execute_result"
    }
   ],
   "source": [
    "transition_probabilities_aaroh(\"Sa\")"
   ]
  },
  {
   "cell_type": "code",
   "execution_count": 176,
   "metadata": {},
   "outputs": [
    {
     "ename": "TypeError",
     "evalue": "transition_probabilities_awaroh() missing 1 required positional argument: 'S'",
     "output_type": "error",
     "traceback": [
      "\u001b[0;31m---------------------------------------------------------------------------\u001b[0m",
      "\u001b[0;31mTypeError\u001b[0m                                 Traceback (most recent call last)",
      "\u001b[0;32m<ipython-input-176-ba1be4e27490>\u001b[0m in \u001b[0;36m<module>\u001b[0;34m\u001b[0m\n\u001b[0;32m----> 1\u001b[0;31m \u001b[0mtransition_probabilities_awaroh\u001b[0m\u001b[0;34m(\u001b[0m\u001b[0;34m)\u001b[0m\u001b[0;34m\u001b[0m\u001b[0;34m\u001b[0m\u001b[0m\n\u001b[0m",
      "\u001b[0;31mTypeError\u001b[0m: transition_probabilities_awaroh() missing 1 required positional argument: 'S'"
     ]
    }
   ],
   "source": [
    "transition_probabilities_awaroh()"
   ]
  },
  {
   "cell_type": "code",
   "execution_count": 177,
   "metadata": {},
   "outputs": [],
   "source": [
    "l = []\n",
    "        "
   ]
  },
  {
   "cell_type": "code",
   "execution_count": 178,
   "metadata": {},
   "outputs": [],
   "source": [
    "Ni = create_swar(\"Ni\")"
   ]
  },
  {
   "cell_type": "code",
   "execution_count": 179,
   "metadata": {},
   "outputs": [],
   "source": [
    "n = Ni()"
   ]
  },
  {
   "cell_type": "code",
   "execution_count": 181,
   "metadata": {},
   "outputs": [
    {
     "data": {
      "text/plain": [
       "__main__.Dha"
      ]
     },
     "execution_count": 181,
     "metadata": {},
     "output_type": "execute_result"
    }
   ],
   "source": [
    "n - 2"
   ]
  },
  {
   "cell_type": "code",
   "execution_count": 182,
   "metadata": {},
   "outputs": [
    {
     "data": {
      "text/plain": [
       "__main__.Ma"
      ]
     },
     "execution_count": 182,
     "metadata": {},
     "output_type": "execute_result"
    }
   ],
   "source": [
    "n - 5"
   ]
  },
  {
   "cell_type": "code",
   "execution_count": null,
   "metadata": {},
   "outputs": [],
   "source": []
  }
 ],
 "metadata": {
  "kernelspec": {
   "display_name": "Python 3",
   "language": "python",
   "name": "python3"
  },
  "language_info": {
   "codemirror_mode": {
    "name": "ipython",
    "version": 3
   },
   "file_extension": ".py",
   "mimetype": "text/x-python",
   "name": "python",
   "nbconvert_exporter": "python",
   "pygments_lexer": "ipython3",
   "version": "3.7.1"
  }
 },
 "nbformat": 4,
 "nbformat_minor": 2
}
