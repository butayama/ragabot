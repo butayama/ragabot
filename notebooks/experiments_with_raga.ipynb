{
 "cells": [
  {
   "cell_type": "code",
   "execution_count": 33,
   "metadata": {},
   "outputs": [],
   "source": [
    "\n",
    "class Swar:\n",
    "    \n",
    "    def __repr__(self):\n",
    "        return type(self).__name__\n",
    "\n",
    "class Sa(Swar):\n",
    "    pass\n",
    "class Re(Swar):\n",
    "    pass\n",
    "class Re_(Swar):\n",
    "    pass\n",
    "class Ga(Swar):\n",
    "    pass\n",
    "class Ga_(Swar):\n",
    "    pass\n",
    "class Ma(Swar):\n",
    "    pass\n",
    "class Ma__(Swar):\n",
    "    pass\n",
    "class Pa(Swar):\n",
    "    pass\n",
    "class Dha(Swar):\n",
    "    pass\n",
    "class Dha_(Swar):\n",
    "    pass\n",
    "class Ni(Swar):\n",
    "    pass\n",
    "class Ni_(Swar):\n",
    "    pass\n",
    "\n",
    "\n",
    "def saptak():\n",
    "    aroha = [Sa(), Re(), Re_(), Ga(), Ga_(), Ma(), Ma__(), Pa(), Dha(), Dha_(), Ni(), Ni_()]\n",
    "    awaroha = aroha[::-1]\n",
    "    yield from aroha\n",
    "    yield from awaroha\n",
    "    \n",
    "def take(seq, n):\n",
    "    return [next(seq) for i in range(n)]\n",
    "\n"
   ]
  },
  {
   "cell_type": "code",
   "execution_count": 38,
   "metadata": {},
   "outputs": [],
   "source": [
    "s = saptak()"
   ]
  },
  {
   "cell_type": "code",
   "execution_count": 35,
   "metadata": {},
   "outputs": [
    {
     "data": {
      "text/plain": [
       "[Sa, Re, Re_, Ga, Ga_, Ma, Ma__, Pa, Dha, Dha_]"
      ]
     },
     "execution_count": 35,
     "metadata": {},
     "output_type": "execute_result"
    }
   ],
   "source": [
    "take(s, 10)"
   ]
  },
  {
   "cell_type": "code",
   "execution_count": 40,
   "metadata": {},
   "outputs": [],
   "source": [
    "def yaman(seq):\n",
    "    varjya = (Re_, Ma, Ga_, Dha_, Ni_)\n",
    "    return (i for i in seq if not isinstance(i, varjya))"
   ]
  },
  {
   "cell_type": "code",
   "execution_count": 41,
   "metadata": {},
   "outputs": [
    {
     "data": {
      "text/plain": [
       "[Sa, Re, Ga, Ma__, Pa, Dha, Ni, Ni, Dha, Pa, Ma__, Ga, Re, Sa]"
      ]
     },
     "execution_count": 41,
     "metadata": {},
     "output_type": "execute_result"
    }
   ],
   "source": [
    "\n",
    "list(yaman(saptak()))"
   ]
  },
  {
   "cell_type": "code",
   "execution_count": 20,
   "metadata": {},
   "outputs": [
    {
     "data": {
      "text/plain": [
       "'Sa'"
      ]
     },
     "execution_count": 20,
     "metadata": {},
     "output_type": "execute_result"
    }
   ],
   "source": [
    "type(s).__name__"
   ]
  },
  {
   "cell_type": "code",
   "execution_count": 1,
   "metadata": {},
   "outputs": [],
   "source": [
    "temp_var = 1"
   ]
  },
  {
   "cell_type": "code",
   "execution_count": null,
   "metadata": {},
   "outputs": [],
   "source": []
  },
  {
   "cell_type": "code",
   "execution_count": null,
   "metadata": {},
   "outputs": [],
   "source": []
  }
 ],
 "metadata": {
  "kernelspec": {
   "display_name": "Python 3",
   "language": "python",
   "name": "python3"
  },
  "language_info": {
   "codemirror_mode": {
    "name": "ipython",
    "version": 3
   },
   "file_extension": ".py",
   "mimetype": "text/x-python",
   "name": "python",
   "nbconvert_exporter": "python",
   "pygments_lexer": "ipython3",
   "version": "3.7.3"
  }
 },
 "nbformat": 4,
 "nbformat_minor": 2
}
