{
 "cells": [
  {
   "cell_type": "markdown",
   "metadata": {},
   "source": [
    "# Ragabot - Art Encoded #"
   ]
  },
  {
   "cell_type": "markdown",
   "metadata": {},
   "source": [
    "Indian classical (hindustani) music has some definite structure. We will try to make use of that structure to generate indian classical tunes using a python programme. Lets try to understand some basics first. \n",
    "\n",
    "### Notations ###\n",
    "There are seven shudhha swars (or notes). All seven together are called saptak. Every next swar is a sound with frequency higher than current swar."
   ]
  },
  {
   "cell_type": "code",
   "execution_count": null,
   "metadata": {},
   "outputs": [],
   "source": [
    "saptak = ['Sa', 'Re', \"Ga\", \"Ma\", \"Pa\", \"Dha\", \"Ni\"]"
   ]
  },
  {
   "cell_type": "markdown",
   "metadata": {},
   "source": [
    "In addition to _shudhha_ swars , few swars have there _komal_ counter part. For Example `Re, Ga, Dha` and `Ni` these swars also come as komal in some tunes. Similarly `Ma` has tivra counter part instead of komal. `Sa` and `Pa` do not have komal or tivra versions. We will denote shudhha swar with just plain letters. Komal swar with an underscore attached to it, while for tivra swar we will add a tail of two underscore. In all we have 12 swar in one saptak then!\n"
   ]
  },
  {
   "cell_type": "code",
   "execution_count": 2,
   "metadata": {},
   "outputs": [
    {
     "data": {
      "text/plain": [
       "12"
      ]
     },
     "execution_count": 2,
     "metadata": {},
     "output_type": "execute_result"
    }
   ],
   "source": [
    "saptak = ['Sa','Re_',\"Re\",\"Ga_\",\"Ga\",\"Ma\",\"Ma__\",\"Pa\",\"Dha_\",\"Dha\",\"Ni_\",\"Ni\"]\n",
    "len(saptak)"
   ]
  },
  {
   "cell_type": "markdown",
   "metadata": {},
   "source": [
    "There are three saptaks that we are going to make use of. _mandra_,_madhya_ and _tar_ saptak. We will denote all swar in _mandra_ saptak with lower case letters. Swar from _madhya_ saptak will be denoted by capitalized from (first letter upper case, rest lower), _tar_ saptak's swar by all upper case letters"
   ]
  },
  {
   "cell_type": "code",
   "execution_count": 7,
   "metadata": {},
   "outputs": [
    {
     "data": {
      "text/plain": [
       "['sa',\n",
       " 're_',\n",
       " 're',\n",
       " 'ga_',\n",
       " 'ga',\n",
       " 'ma',\n",
       " 'ma__',\n",
       " 'pa',\n",
       " 'dha_',\n",
       " 'dha',\n",
       " 'ni_',\n",
       " 'ni']"
      ]
     },
     "execution_count": 7,
     "metadata": {},
     "output_type": "execute_result"
    }
   ],
   "source": [
    "mandra_saptak = [s.lower() for s in saptak]\n",
    "mandra_saptak"
   ]
  },
  {
   "cell_type": "code",
   "execution_count": 5,
   "metadata": {},
   "outputs": [
    {
     "data": {
      "text/plain": [
       "['SA',\n",
       " 'RE_',\n",
       " 'RE',\n",
       " 'GA_',\n",
       " 'GA',\n",
       " 'MA',\n",
       " 'MA__',\n",
       " 'PA',\n",
       " 'DHA_',\n",
       " 'DHA',\n",
       " 'NI_',\n",
       " 'NI']"
      ]
     },
     "execution_count": 5,
     "metadata": {},
     "output_type": "execute_result"
    }
   ],
   "source": [
    "tar_saptak = [s.upper() for s in saptak]\n",
    "tar_saptak"
   ]
  },
  {
   "cell_type": "markdown",
   "metadata": {},
   "source": [
    "### Raga ###\n",
    "\n",
    "Raga consists of subset (not necessarily proper subset) of these 12 swar of a saptak. Further, when composing tunes in a raga, there are certain swars/notes that are allowed when notes are increasing in their frequencies (_aaroha_) and certain other notes when they are decreasing in frequency (_avroha_). Some ragas are more complicated in that when notes are increasing in frequency there are certain notes from which one must ‘descend’, i.e., use lower frequency notes and then continue the ‘ascent’ of increasing frequency notes. This last structure is also called the ‘chalan’ of the raga. Further, some notes are granted greater relative time than others, often called ‘nyas’ notes. \n",
    "For example here is a sample tune from raag bhoop.\n",
    "```\n",
    "SA,SA,Dha,Pa,Ga,Re,Sa,Re,Ga,Ga,Pa,Ga,Dha,Pa,Ga,Ga\n",
    "Ga,Pa,Dha,SA,RE,SA,Dha,Pa,SA,Pa,Dha,Pa,Ga,Re,Sa,Sa\n",
    "Ga,Ga,Pa,Dha,Pa,SA,SA,SA,Dha,Dha,SA,RE,GA,RE,SA,Dha\n",
    "GA,GA,RE,SA,RE,RE,SA,Dha,SA,Pa,Dha,Pa,Ga,Re,Sa,Sa\n",
    "\n",
    "Ga,Re,Ga,Ga,Sa,Re,Sa,Sa,Sa,Sa,Sa,dha,Sa,Re,Ga,Ga\n",
    "Pa,Ga,Pa,Pa,Dha,Dha,Pa,Pa,Ga,Pa,Dha,SA,Dha,Pa,Ga,Sa\n",
    "Pa,Ga,Ga,Re,Ga,Pa,SA,Dha,SA,SA,SA,SA,Dha,Re,SA,SA\n",
    "Dha,Dha,Dha,Dha,SA,RE,GA,RE,SA,SA,Dha,Pa,Dha,SA,Dha,Pa\n",
    "Ga,Re,Ga,Ga,Ga,Re,Pa,Ga,Dha,Pa,Dha,SA,Dha,Pa,Ga,Sa\n",
    "```"
   ]
  },
  {
   "cell_type": "markdown",
   "metadata": {},
   "source": [
    " ### Can we emulate the patterns of raga? ###\n",
    " \n",
    "We make use of some existing tunes and assign a probabilty of transition from one swar to next. The structures/patterns defining the raga are encoded in a set of probabilities. Attached to each note is an array of probabilities which specifies the probability of transitioning from that note to other notes. In tech parlance this would be a Markov chain of sorts where the transition matrix is a stochastic matrix.\n",
    "    \n",
    "```\n",
    "     ___0.1___ Pa        ___0.5__ Ga\n",
    "    / __0.1___ Ga       /\n",
    "   / / _0.3___ Re-------____0.4__ Sa\n",
    "  / / /                 \\\n",
    "Sa _____0.2___ Sa        \\__0.1__ dha\n",
    "  \\ \n",
    "   \\ \\ \\_0.25_ dha \n",
    "    \\ \\__0.04_ pa\n",
    "     \\___0.01_ ga\n",
    "\n",
    "```"
   ]
  },
  {
   "cell_type": "markdown",
   "metadata": {},
   "source": [
    "### Probabilties ###\n",
    "So lets take our sample data and construct a transition probability for each swar! For that we will make use of very simple python function"
   ]
  },
  {
   "cell_type": "code",
   "execution_count": 1,
   "metadata": {},
   "outputs": [],
   "source": [
    "\n",
    "def histogram(data):\n",
    "    \"\"\"\n",
    "    data is raga tune as a list of lines.\n",
    "    every line is a list of swar from the tune.\n",
    "    \"\"\"\n",
    "    hist = {}\n",
    "    \n",
    "    for line in data: #histogram of whats next item\n",
    "        for i, item in enumerate(line[:-1]):\n",
    "            itemd = hist.get(item, {})\n",
    "            itemd[line[i+1]] = itemd.get(line[i+1], 0) + 1\n",
    "            hist[item] = itemd\n",
    "\n",
    "    return hist\n",
    "\n",
    "def transition_probability(hist):\n",
    "    prob = {}\n",
    "    for k in hist:#compute probabilitis\n",
    "        total  = sum(hist[k].values())\n",
    "        prob[k] = {j: v/total for j,v in hist[k].items()}\n",
    "    return prob\n",
    "                "
   ]
  },
  {
   "cell_type": "markdown",
   "metadata": {},
   "source": [
    "### Sample data for raag bhoop ###\n",
    "Here are few sample tunes of raag bhoop. After every beat there is a comma. So whereever there are two or more swar without any comma in between, they are to be played in half note."
   ]
  },
  {
   "cell_type": "code",
   "execution_count": 22,
   "metadata": {},
   "outputs": [
    {
     "name": "stdout",
     "output_type": "stream",
     "text": [
      "Overwriting bhoop1.csv\n"
     ]
    }
   ],
   "source": [
    "%%file bhoop1.csv\n",
    "SA,SA,Dha,Pa,Ga,Re,Sa,Re,Ga,Ga,Pa,Ga,Dha,Pa,Ga,Ga\n",
    "Ga,Pa,Dha,SA,RE,SA,Dha,Pa,SA,Pa,Dha,Pa,Ga,Re,Sa,Sa\n",
    "Ga,Ga,Pa,Dha,Pa,SA,SA,SA,Dha,Dha,SA,RE,GA,RE,SA,Dha\n",
    "GA,GA,RE,SA,RE,RE,SA,Dha,SA,Pa,Dha,Pa,Ga,Re,Sa,Sa\n",
    "\n",
    "Ga,Re,Ga,Ga,Sa,Re,Sa,Sa,Sa,Sa,Sa,dha,Sa,Re,Ga,Ga\n",
    "Pa,Ga,Pa,Pa,Dha,Dha,Pa,Pa,Ga,Pa,Dha,SA,Dha,Pa,Ga,Sa\n",
    "Pa,Ga,Ga,Re,Ga,Pa,SA,Dha,SA,SA,SA,SA,Dha,Re,SA,SA\n",
    "Dha,Dha,Dha,Dha,SA,RE,GA,RE,SA,SA,Dha,Pa,Dha,SA,Dha,Pa\n",
    "Ga,Re,Ga,Ga,Ga,Re,Pa,Ga,Dha,Pa,Dha,SA,Dha,Pa,Ga,Sa\n",
    "\n",
    "Sa,Re,Ga,Pa,Ga,Re,Sa,Sa,Re,Pa,Pa,Pa,Re,Ga,Ga,Re\n",
    "Ga,GaPa,Ga,Re,Ga,Pa,Dha,SA,SA,SA,SA,Dha,Dha,Pa,Ga,Pa\n",
    "DhaRE,SA,SA,Dha,Dha,Pa,Ga,Re,GaPa,DhaSA,PaDha,SA,DhaSA,DhaPa,GaRe,Sa\n",
    "\n",
    "Pa,Ga,Ga,Ga,Pa,Pa,SA,Dha,SA,SA,SA,SA,SARE,GARE,SA,SA\n",
    "SA,Dha,Dha,SA,SA,SA,RE,RE,DhaSA,PaDha,SA,SA,Dha,Dha,Pa\n",
    "Ga,GaPa,Ga,Re,Ga,Pa,Dha,SA,SARE,GARE,SA,DhaPa,DhaSA,DhaPa,GaRe,GaPa,GaRe,Sa\n",
    "\n",
    "Sa,dha,dha,Sa\n",
    "dha,Sa,Re\n",
    "Sa,Re\n",
    "dha,Sa\n",
    "Sa,Re,Ga,Re,Ga,Sa,Re,dha,Sa\n",
    "Sa,Re,Ga,Re,Ga,Pa,Ga,Re,Pa,Ga,dha,dha,Sa\n",
    "Ga,Pa,Dha,Ga,Ga,Ga,Pa\n",
    "Ga,Pa,Dha,Pa,Ga,Re,Sa\n",
    "Ga,Pa,Dha,SA,SA,Dha,Pa,Ga,Re,Ga,Re,Pa,Ga,Re,Sa\n",
    "Ga,Re,Sa,Re,Ga,Pa,Dha,SA,Pa,Dha,SA,RE,GA,RE,SA\n",
    "Dha,SA,RE,SA,Dha,SA,Dha,Pa,Ga,Pa,Dha,Pa,Ga,Pa,Ga,Re,Sa,dha,dha,Sa\n"
   ]
  },
  {
   "cell_type": "markdown",
   "metadata": {},
   "source": [
    "Lets read this data in list structure."
   ]
  },
  {
   "cell_type": "code",
   "execution_count": 23,
   "metadata": {},
   "outputs": [],
   "source": [
    "def readcsv(filename):\n",
    "    with open(filename) as f:\n",
    "        return [line.strip().split(\",\") for line in f]"
   ]
  },
  {
   "cell_type": "code",
   "execution_count": 24,
   "metadata": {},
   "outputs": [],
   "source": [
    "hist_  = histogram(readcsv(\"bhoop1.csv\"))"
   ]
  },
  {
   "cell_type": "markdown",
   "metadata": {},
   "source": [
    "Lets look at what does this histogram means!"
   ]
  },
  {
   "cell_type": "code",
   "execution_count": 28,
   "metadata": {},
   "outputs": [
    {
     "data": {
      "text/plain": [
       "{'Pa': 19, 'SA': 17, 'Dha': 9, 'Re': 1, 'Ga': 1}"
      ]
     },
     "execution_count": 28,
     "metadata": {},
     "output_type": "execute_result"
    }
   ],
   "source": [
    "hist_['Dha']"
   ]
  },
  {
   "cell_type": "code",
   "execution_count": 42,
   "metadata": {},
   "outputs": [],
   "source": [
    "def textplot(hist):\n",
    "    for k in sorted(hist, key=lambda k: hist[k], reverse=True):\n",
    "        print(k.rjust(9), str(hist[k]).rjust(3), hist[k]*\"*\")"
   ]
  },
  {
   "cell_type": "code",
   "execution_count": 43,
   "metadata": {},
   "outputs": [
    {
     "name": "stdout",
     "output_type": "stream",
     "text": [
      "       Pa  19 *******************\n",
      "       SA  17 *****************\n",
      "      Dha   9 *********\n",
      "       Re   1 *\n",
      "       Ga   1 *\n"
     ]
    }
   ],
   "source": [
    "textplot(hist_['Dha'])"
   ]
  },
  {
   "cell_type": "markdown",
   "metadata": {},
   "source": [
    "This means in our training data, `Pa` has occured more than other note after `Dha`. So next most probable note after `Dha` is `Pa` while next to that counts `SA`.\n",
    "\n",
    "Probabilitis for `Dha` look like as given below"
   ]
  },
  {
   "cell_type": "code",
   "execution_count": 35,
   "metadata": {},
   "outputs": [
    {
     "data": {
      "text/plain": [
       "{'Pa': 0.40425531914893614,\n",
       " 'SA': 0.3617021276595745,\n",
       " 'Dha': 0.19148936170212766,\n",
       " 'Re': 0.02127659574468085,\n",
       " 'Ga': 0.02127659574468085}"
      ]
     },
     "execution_count": 35,
     "metadata": {},
     "output_type": "execute_result"
    }
   ],
   "source": [
    "probs = transition_probability(hist_)\n",
    "probs['Dha']"
   ]
  },
  {
   "cell_type": "markdown",
   "metadata": {},
   "source": [
    "### Sampling , given the probabilities###\n",
    "\n",
    "Now our next problem is given these transition probabilities for `Dha` how do we sample so that we find next note based on probabilty, but same time random also! This problem boils down to a problem of sampling item from an array based on probability for each position.\n"
   ]
  },
  {
   "cell_type": "code",
   "execution_count": 2,
   "metadata": {},
   "outputs": [
    {
     "name": "stdout",
     "output_type": "stream",
     "text": [
      "Pa 0.4042\n",
      "SA 0.3621\n",
      "Dha 0.1924\n",
      "Re 0.0215\n",
      "Ga 0.0198\n"
     ]
    }
   ],
   "source": [
    "import random\n",
    "def sample(items, probs):\n",
    "    r = random.random()\n",
    "    index = 0\n",
    "    while(r >= 0 and index < len(probs)):\n",
    "        r -= probs[index]\n",
    "        index += 1\n",
    "    return items[index - 1]\n",
    "\n",
    "\n",
    "def test_sample():\n",
    "    probs = {'Pa': 0.40425531914893614,\n",
    "             'SA': 0.3617021276595745,\n",
    "             'Dha': 0.19148936170212766,\n",
    "             'Re': 0.02127659574468085,\n",
    "             'Ga': 0.02127659574468085}\n",
    "    keys = [i for i in probs.keys()]\n",
    "    pvalues = [probs[i] for i in keys]\n",
    "    samples = [sample(keys, pvalues) for i in range(10000)]\n",
    "    for item in probs:\n",
    "        print(item, samples.count(item)/10000)\n",
    "    assert abs(probs['Pa']-samples.count('Pa')/10000)<0.01\n",
    "    \n",
    "test_sample()\n"
   ]
  },
  {
   "cell_type": "markdown",
   "metadata": {},
   "source": [
    "### ragabot encoded!###\n",
    "Lets create a sample random tune in raag bhoop!"
   ]
  },
  {
   "cell_type": "code",
   "execution_count": 73,
   "metadata": {},
   "outputs": [],
   "source": [
    "bhoop_probs = transition_probability(histogram(readcsv(\"bhoop1.csv\")))\n",
    "def aalap(initial, transition_prob):\n",
    "    current = initial\n",
    "    \n",
    "    while True:\n",
    "        yield current\n",
    "        probs = transition_prob[current]\n",
    "        items = [i for i in probs.keys()]\n",
    "        pvalues = [probs[item] for item in items]\n",
    "        current = sample(items, pvalues)\n",
    "        \n",
    "def take(seq, n):\n",
    "    return [next(seq) for i in range(n)]\n"
   ]
  },
  {
   "cell_type": "code",
   "execution_count": 76,
   "metadata": {},
   "outputs": [],
   "source": [
    "bhoop = aalap(\"Sa\",bhoop_probs)"
   ]
  },
  {
   "cell_type": "code",
   "execution_count": 77,
   "metadata": {},
   "outputs": [
    {
     "data": {
      "text/plain": [
       "['Sa',\n",
       " 'Sa',\n",
       " 'Re',\n",
       " 'GaPa',\n",
       " 'GaRe',\n",
       " 'GaPa',\n",
       " 'Ga',\n",
       " 'Sa',\n",
       " 'Re',\n",
       " 'Ga',\n",
       " 'Re',\n",
       " 'Pa',\n",
       " 'Ga',\n",
       " 'Ga',\n",
       " 'Re',\n",
       " 'Pa',\n",
       " 'Ga',\n",
       " 'Ga',\n",
       " 'Pa',\n",
       " 'Ga',\n",
       " 'Re',\n",
       " 'Sa',\n",
       " 'Re',\n",
       " 'Ga',\n",
       " 'Pa',\n",
       " 'Dha',\n",
       " 'SA',\n",
       " 'Dha',\n",
       " 'SA',\n",
       " 'DhaPa',\n",
       " 'GaRe',\n",
       " 'GaPa']"
      ]
     },
     "execution_count": 77,
     "metadata": {},
     "output_type": "execute_result"
    }
   ],
   "source": [
    "take(bhoop, 32)"
   ]
  },
  {
   "cell_type": "markdown",
   "metadata": {},
   "source": [
    "### How do we examine it!! ###\n",
    "one way is to play it or sing it! But there is another way! When we listen to a tune, how do we understand that it is playing in raag `bhoop`? By special sequencs of notes that come frequently in raag bhoop. we call it chalan or pakad. So let our python function generate some long tune for sufficiently long time. we will count how many times pakad comes into that sequence. This is just one indicator"
   ]
  },
  {
   "cell_type": "code",
   "execution_count": 78,
   "metadata": {},
   "outputs": [],
   "source": [
    "from collections import deque\n",
    "\n",
    "def search(seq, subseq, end=100):\n",
    "    def compare(source, dest):\n",
    "        for item in dest:\n",
    "            return any([\"\".join(item).lower() in \"\".join(source).lower() for item in dest])\n",
    "    \n",
    "    n = len(max(subseq, key=len))\n",
    "    window = deque(take(seq, n), n)\n",
    "    for i in range(n, end):\n",
    "        if compare(window, subseq):\n",
    "            yield i-n\n",
    "            window = deque(take(seq, n), n)\n",
    "        else:\n",
    "            window.append(next(seq))\n",
    "            \n",
    "\n",
    "def count(seq):\n",
    "    return sum(1 for i in seq)\n",
    "        "
   ]
  },
  {
   "cell_type": "code",
   "execution_count": 81,
   "metadata": {},
   "outputs": [
    {
     "data": {
      "text/plain": [
       "1.099"
      ]
     },
     "execution_count": 81,
     "metadata": {},
     "output_type": "execute_result"
    }
   ],
   "source": [
    "bhoop = aalap(\"Sa\", bhoop_probs)\n",
    "pakad = [[\"dha\",\"dha\",\"sa\"],[\"ga\",\"re\",\"pa\",\"ga\"],[\"dha\",\"pa\",\"ga\",\"re\"]]\n",
    "\n",
    "sum([count(search(bhoop,pakad, 32)) for i in range(1000)])/1000"
   ]
  },
  {
   "cell_type": "code",
   "execution_count": null,
   "metadata": {},
   "outputs": [],
   "source": []
  }
 ],
 "metadata": {
  "kernelspec": {
   "display_name": "Python 3",
   "language": "python",
   "name": "python3"
  },
  "language_info": {
   "codemirror_mode": {
    "name": "ipython",
    "version": 3
   },
   "file_extension": ".py",
   "mimetype": "text/x-python",
   "name": "python",
   "nbconvert_exporter": "python",
   "pygments_lexer": "ipython3",
   "version": "3.7.3"
  }
 },
 "nbformat": 4,
 "nbformat_minor": 2
}
